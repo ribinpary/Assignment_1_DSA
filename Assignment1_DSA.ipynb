{
 "cells": [
  {
   "cell_type": "markdown",
   "id": "b6821b95",
   "metadata": {},
   "source": [
    "# Question_1"
   ]
  },
  {
   "cell_type": "code",
   "execution_count": 20,
   "id": "139a08d8",
   "metadata": {},
   "outputs": [
    {
     "name": "stdout",
     "output_type": "stream",
     "text": [
      "Enter the list: [2,4,5,6,9,-3,12,7,0,4]\n",
      "Enter the target value: 9\n",
      "Pairs: [(2, 7), (4, 5), (5, 4), (9, 0), (-3, 12)]\n"
     ]
    }
   ],
   "source": [
    "def find_pairs(arr,target):\n",
    "    pairs = []\n",
    "    for i in range(len(arr)):\n",
    "        for j in range(i+1, len(arr)):\n",
    "            if arr[i] + arr[j] == target:\n",
    "                pairs.append((arr[i], arr[j]))\n",
    "    return pairs\n",
    "\n",
    "arr = eval(input(\"Enter the list: \")) \n",
    "target = int(input(\"Enter the target value: \"))\n",
    "result = find_pairs(arr, target)\n",
    "print(\"Pairs:\",result)"
   ]
  },
  {
   "cell_type": "markdown",
   "id": "aa4d3892",
   "metadata": {},
   "source": [
    "\n",
    "# Question_2"
   ]
  },
  {
   "cell_type": "code",
   "execution_count": 5,
   "id": "76b96714",
   "metadata": {},
   "outputs": [
    {
     "name": "stdout",
     "output_type": "stream",
     "text": [
      "Enter the list: [1,3,5,7,9]\n",
      "Reverse: [9, 7, 5, 3, 1]\n"
     ]
    }
   ],
   "source": [
    "def reverse_array(arrr):\n",
    "    start = 0\n",
    "    end = len(arrr)-1\n",
    "    while start < end:\n",
    "        arrr[start],arrr[end] = arrr[end],arrr[start]\n",
    "        start += 1\n",
    "        end -= 1\n",
    "\n",
    "arrr = eval(input(\"Enter the list: \"))\n",
    "reverse_array(arrr)\n",
    "print(\"Reverse:\",arrr)\n"
   ]
  },
  {
   "cell_type": "markdown",
   "id": "3d487ae8",
   "metadata": {},
   "source": [
    "# Question_3"
   ]
  },
  {
   "cell_type": "code",
   "execution_count": 20,
   "id": "15d0479e",
   "metadata": {},
   "outputs": [
    {
     "name": "stdout",
     "output_type": "stream",
     "text": [
      "Enter the first string: HELLO\n",
      "Enter the second string: ELLOH\n",
      "True\n"
     ]
    }
   ],
   "source": [
    "def are_rotations(str1, str2):\n",
    "    if len(str1) != len(str2):\n",
    "        return False\n",
    "    temp = str1 + str1\n",
    "    return str2 in temp\n",
    "\n",
    "\n",
    "str1 = input(\"Enter the first string: \")\n",
    "str2 = input(\"Enter the second string: \")\n",
    "result = are_rotations(str1, str2)\n",
    "print(result)"
   ]
  },
  {
   "cell_type": "markdown",
   "id": "15b00ff7",
   "metadata": {},
   "source": [
    "# Question_4"
   ]
  },
  {
   "cell_type": "code",
   "execution_count": 28,
   "id": "a1c43d88",
   "metadata": {},
   "outputs": [
    {
     "name": "stdout",
     "output_type": "stream",
     "text": [
      "Enter the string: aaabbccdffg\n",
      "Non repeated char: d\n"
     ]
    }
   ],
   "source": [
    "def find_first_non_repeated_char(string):\n",
    "    char_count = {}\n",
    "    for char in string:\n",
    "        if char in char_count:\n",
    "            char_count[char] += 1\n",
    "        else:\n",
    "            char_count[char] = 1\n",
    "    for char in string:\n",
    "          if char_count[char] == 1:\n",
    "            return char\n",
    "    return None\n",
    "\n",
    "string = input(\"Enter the string: \")\n",
    "result = find_first_non_repeated_char(string)\n",
    "print(\"Non repeated char:\",result)\n"
   ]
  },
  {
   "cell_type": "markdown",
   "id": "525d4248",
   "metadata": {},
   "source": [
    "# Question_5"
   ]
  },
  {
   "cell_type": "code",
   "execution_count": 30,
   "id": "b95698ce",
   "metadata": {},
   "outputs": [
    {
     "name": "stdout",
     "output_type": "stream",
     "text": [
      "Move disk 1 from A to C\n",
      "Move disk 2 from A to B\n",
      "Move disk 1 from C to B\n",
      "Move disk 3 from A to C\n",
      "Move disk 1 from B to A\n",
      "Move disk 2 from B to C\n",
      "Move disk 1 from A to C\n"
     ]
    }
   ],
   "source": [
    "def tower_of_hanoi(n,source,destination,auxiliary):\n",
    "    if n == 1:\n",
    "        print(f\"Move disk 1 from {source} to {destination}\")\n",
    "        return\n",
    "    tower_of_hanoi(n-1, source, auxiliary, destination)\n",
    "    print(f\"Move disk {n} from {source} to {destination}\")\n",
    "    tower_of_hanoi(n-1, auxiliary, destination, source)\n",
    "\n",
    "n = 3\n",
    "tower_of_hanoi(n,'A','C','B')"
   ]
  },
  {
   "cell_type": "markdown",
   "id": "2500257e",
   "metadata": {},
   "source": [
    "# Question_6"
   ]
  },
  {
   "cell_type": "code",
   "execution_count": 35,
   "id": "abd91969",
   "metadata": {},
   "outputs": [
    {
     "name": "stdout",
     "output_type": "stream",
     "text": [
      "Enter a postfix expression:34+\n",
      "Prefix expression: +34\n"
     ]
    }
   ],
   "source": [
    "def postfix_to_prefix(expression):\n",
    "    stack = []\n",
    "    operators = ['+','-','*','/']\n",
    "    for char in expression:\n",
    "        if char.isdigit():\n",
    "            stack.append(char)\n",
    "        elif char in operators:\n",
    "            operand1 = stack.pop()\n",
    "            operand2 = stack.pop()\n",
    "            stack.append(char + operand2 + operand1)\n",
    "    return stack[0]\n",
    "\n",
    "postfix_expression = input(\"Enter a postfix expression:\")\n",
    "prefix_expression = postfix_to_prefix(postfix_expression)\n",
    "print(\"Prefix expression:\",prefix_expression)\n"
   ]
  },
  {
   "cell_type": "markdown",
   "id": "9c945594",
   "metadata": {},
   "source": [
    "# Question_7"
   ]
  },
  {
   "cell_type": "code",
   "execution_count": 3,
   "id": "b2d9f626",
   "metadata": {},
   "outputs": [
    {
     "name": "stdout",
     "output_type": "stream",
     "text": [
      "Enter a prefix expression:-*765\n",
      "Infix expression: ((7*6)-5)\n"
     ]
    }
   ],
   "source": [
    "def prefix_to_infix(expression):\n",
    "    stack = []\n",
    "    operators = ['+','-','*','/']\n",
    "    for char in reversed(expression):\n",
    "        if char.isdigit():\n",
    "            stack.append(char)\n",
    "        elif char in operators:\n",
    "            operand1 = stack.pop()\n",
    "            operand2 = stack.pop()\n",
    "            stack.append('(' + operand1 + char + operand2 + ')')\n",
    "    return stack[0]\n",
    "\n",
    "prefix_expression = input(\"Enter a prefix expression:\")\n",
    "infix_expression = prefix_to_infix(prefix_expression)\n",
    "print(\"Infix expression:\",infix_expression)"
   ]
  },
  {
   "cell_type": "markdown",
   "id": "827eeddb",
   "metadata": {},
   "source": [
    "# Question_8"
   ]
  },
  {
   "cell_type": "code",
   "execution_count": 7,
   "id": "3fa4f649",
   "metadata": {},
   "outputs": [
    {
     "name": "stdout",
     "output_type": "stream",
     "text": [
      "True\n"
     ]
    }
   ],
   "source": [
    "def check_brackets(code):\n",
    "    stack = []\n",
    "    opening_brackets = ['(','[','{']\n",
    "    closing_brackets = [')',']','}']\n",
    "    for char in code:\n",
    "        if char in opening_brackets:\n",
    "            stack.append(char)\n",
    "        elif char in closing_brackets:\n",
    "            if not stack:\n",
    "                return False\n",
    "            if opening_brackets.index(stack.pop()) != closing_brackets.index(char):\n",
    "                return False\n",
    "    return len(stack) == 0\n",
    "\n",
    "code_snippet = \"{{[()]}}\"\n",
    "result = check_brackets(code_snippet)\n",
    "print(result)"
   ]
  },
  {
   "cell_type": "markdown",
   "id": "bc2fadc7",
   "metadata": {},
   "source": [
    "# Question_9"
   ]
  },
  {
   "cell_type": "code",
   "execution_count": 17,
   "id": "bcdcb11a",
   "metadata": {},
   "outputs": [
    {
     "name": "stdout",
     "output_type": "stream",
     "text": [
      "Original stack: [1, 2, 3, 4]\n",
      "Reversed stack: [4, 3, 2, 1]\n"
     ]
    }
   ],
   "source": [
    "class Stack:\n",
    "    def __init__(self):\n",
    "        self.items = []\n",
    "\n",
    "    def push(self, item):\n",
    "        self.items.append(item)\n",
    "\n",
    "    def pop(self):\n",
    "        return self.items.pop()\n",
    "\n",
    "    def is_empty(self):\n",
    "        return len(self.items) == 0\n",
    "\n",
    "    def peek(self):\n",
    "        if not self.is_empty():\n",
    "            return self.items[-1]\n",
    "\n",
    "def reverse_stack(stack):\n",
    "    if not stack.is_empty():\n",
    "        temp = stack.pop()\n",
    "        reverse_stack(stack)\n",
    "        insert_at_bottom(stack, temp)\n",
    "\n",
    "\n",
    "def insert_at_bottom(stack, item):\n",
    "    if stack.is_empty():\n",
    "        stack.push(item)\n",
    "    else:\n",
    "        temp = stack.pop()\n",
    "        insert_at_bottom(stack, item)\n",
    "        stack.push(temp)\n",
    "\n",
    "stack = Stack()\n",
    "stack.push(1)\n",
    "stack.push(2)\n",
    "stack.push(3)\n",
    "stack.push(4)\n",
    "\n",
    "print(\"Original stack:\",stack.items)\n",
    "\n",
    "reverse_stack(stack)\n",
    "\n",
    "print(\"Reversed stack:\",stack.items)"
   ]
  },
  {
   "cell_type": "markdown",
   "id": "1b27f160",
   "metadata": {},
   "source": [
    "# Question_10"
   ]
  },
  {
   "cell_type": "code",
   "execution_count": 19,
   "id": "89d8d6ba",
   "metadata": {},
   "outputs": [
    {
     "name": "stdout",
     "output_type": "stream",
     "text": [
      "Min_Element: 1\n"
     ]
    }
   ],
   "source": [
    "class Stack:\n",
    "    def __init__(self):\n",
    "        self.stack = []\n",
    "        self.min_stack = []\n",
    "    \n",
    "    def push(self, value):\n",
    "        if self.is_empty() or value <= self.min_stack[-1]:\n",
    "            self.min_stack.append(value)\n",
    "        self.stack.append(value)\n",
    "    \n",
    "    def pop(self):\n",
    "        if not self.is_empty():\n",
    "            if self.stack[-1] == self.min_stack[-1]:\n",
    "                self.min_stack.pop()\n",
    "            return self.stack.pop()\n",
    "    \n",
    "    def get_min(self):\n",
    "        if not self.is_empty():\n",
    "            return self.min_stack[-1]\n",
    "    \n",
    "    def is_empty(self):\n",
    "        return len(self.stack) == 0\n",
    "\n",
    "stack = Stack()\n",
    "stack.push(4)\n",
    "stack.push(2)\n",
    "stack.push(5)\n",
    "stack.push(1)\n",
    "stack.push(3)\n",
    "\n",
    "print(\"Min_Element:\",stack.get_min())"
   ]
  },
  {
   "cell_type": "code",
   "execution_count": null,
   "id": "6712f16d",
   "metadata": {},
   "outputs": [],
   "source": []
  }
 ],
 "metadata": {
  "kernelspec": {
   "display_name": "Python 3 (ipykernel)",
   "language": "python",
   "name": "python3"
  },
  "language_info": {
   "codemirror_mode": {
    "name": "ipython",
    "version": 3
   },
   "file_extension": ".py",
   "mimetype": "text/x-python",
   "name": "python",
   "nbconvert_exporter": "python",
   "pygments_lexer": "ipython3",
   "version": "3.10.9"
  },
  "varInspector": {
   "cols": {
    "lenName": 16,
    "lenType": 16,
    "lenVar": 40
   },
   "kernels_config": {
    "python": {
     "delete_cmd_postfix": "",
     "delete_cmd_prefix": "del ",
     "library": "var_list.py",
     "varRefreshCmd": "print(var_dic_list())"
    },
    "r": {
     "delete_cmd_postfix": ") ",
     "delete_cmd_prefix": "rm(",
     "library": "var_list.r",
     "varRefreshCmd": "cat(var_dic_list()) "
    }
   },
   "types_to_exclude": [
    "module",
    "function",
    "builtin_function_or_method",
    "instance",
    "_Feature"
   ],
   "window_display": false
  }
 },
 "nbformat": 4,
 "nbformat_minor": 5
}
